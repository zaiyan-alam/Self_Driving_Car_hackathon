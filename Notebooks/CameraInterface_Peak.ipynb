{
 "cells": [
  {
   "cell_type": "code",
   "execution_count": 1,
   "metadata": {},
   "outputs": [
    {
     "ename": "ImportError",
     "evalue": "No module named picamera.array",
     "output_type": "error",
     "traceback": [
      "\u001b[0;31m---------------------------------------------------------------------------\u001b[0m",
      "\u001b[0;31mImportError\u001b[0m                               Traceback (most recent call last)",
      "\u001b[0;32m<ipython-input-1-52b522d92679>\u001b[0m in \u001b[0;36m<module>\u001b[0;34m()\u001b[0m\n\u001b[0;32m----> 1\u001b[0;31m \u001b[0;32mfrom\u001b[0m \u001b[0mpicamera\u001b[0m\u001b[0;34m.\u001b[0m\u001b[0marray\u001b[0m \u001b[0;32mimport\u001b[0m \u001b[0mPiYUVArray\u001b[0m\u001b[0;34m,\u001b[0m \u001b[0mPiRGBArray\u001b[0m\u001b[0;34m\u001b[0m\u001b[0m\n\u001b[0m\u001b[1;32m      2\u001b[0m \u001b[0;32mfrom\u001b[0m \u001b[0mpicamera\u001b[0m \u001b[0;32mimport\u001b[0m \u001b[0mPiCamera\u001b[0m\u001b[0;34m\u001b[0m\u001b[0m\n\u001b[1;32m      3\u001b[0m \u001b[0;34m\u001b[0m\u001b[0m\n\u001b[1;32m      4\u001b[0m \u001b[0;32mfrom\u001b[0m \u001b[0mscipy\u001b[0m\u001b[0;34m.\u001b[0m\u001b[0msignal\u001b[0m \u001b[0;32mimport\u001b[0m \u001b[0mfind_peaks\u001b[0m\u001b[0;34m,\u001b[0m \u001b[0mbutter\u001b[0m\u001b[0;34m,\u001b[0m \u001b[0mfiltfilt\u001b[0m\u001b[0;34m\u001b[0m\u001b[0m\n\u001b[1;32m      5\u001b[0m \u001b[0;34m\u001b[0m\u001b[0m\n",
      "\u001b[0;31mImportError\u001b[0m: No module named picamera.array"
     ]
    }
   ],
   "source": [
    "#1. Captures images from pi\n",
    "#2. Finds midpoint of peak - corresponds to centre of white line\n",
    "#3. Uses PID controller but with midpoint of centre lane as reference - 2300\n",
    "\n"
   ]
  },
  {
   "cell_type": "code",
   "execution_count": 1,
   "metadata": {},
   "outputs": [
    {
     "ename": "ImportError",
     "evalue": "No module named picamera.array",
     "output_type": "error",
     "traceback": [
      "\u001b[0;31m---------------------------------------------------------------------------\u001b[0m",
      "\u001b[0;31mImportError\u001b[0m                               Traceback (most recent call last)",
      "\u001b[0;32m<ipython-input-1-c66e7d08a3d3>\u001b[0m in \u001b[0;36m<module>\u001b[0;34m()\u001b[0m\n\u001b[0;32m----> 1\u001b[0;31m \u001b[0;32mfrom\u001b[0m \u001b[0mpicamera\u001b[0m\u001b[0;34m.\u001b[0m\u001b[0marray\u001b[0m \u001b[0;32mimport\u001b[0m \u001b[0mPiYUVArray\u001b[0m\u001b[0;34m,\u001b[0m \u001b[0mPiRGBArray\u001b[0m\u001b[0;34m\u001b[0m\u001b[0m\n\u001b[0m\u001b[1;32m      2\u001b[0m \u001b[0;32mfrom\u001b[0m \u001b[0mpicamera\u001b[0m \u001b[0;32mimport\u001b[0m \u001b[0mPiCamera\u001b[0m\u001b[0;34m\u001b[0m\u001b[0m\n\u001b[1;32m      3\u001b[0m \u001b[0;34m\u001b[0m\u001b[0m\n\u001b[1;32m      4\u001b[0m \u001b[0;32mfrom\u001b[0m \u001b[0mscipy\u001b[0m\u001b[0;34m.\u001b[0m\u001b[0msignal\u001b[0m \u001b[0;32mimport\u001b[0m \u001b[0mfind_peaks\u001b[0m\u001b[0;34m,\u001b[0m \u001b[0mbutter\u001b[0m\u001b[0;34m,\u001b[0m \u001b[0mfiltfilt\u001b[0m\u001b[0;34m\u001b[0m\u001b[0m\n\u001b[1;32m      5\u001b[0m \u001b[0;34m\u001b[0m\u001b[0m\n",
      "\u001b[0;31mImportError\u001b[0m: No module named picamera.array"
     ]
    }
   ],
   "source": [
    "from picamera.array import PiYUVArray, PiRGBArray\n",
    "from picamera import PiCamera\n",
    "\n",
    "from scipy.signal import find_peaks, butter, filtfilt\n",
    "\n",
    "import time\n",
    "import matplotlib.pyplot as plt\n",
    "import skimage as ski\n",
    "\n",
    "import cv2\n",
    "import numpy as np\n",
    "from PIL import Image\n"
   ]
  },
  {
   "cell_type": "code",
   "execution_count": null,
   "metadata": {},
   "outputs": [],
   "source": [
    "# Camera resolution\n",
    "res = (640, 480)"
   ]
  },
  {
   "cell_type": "code",
   "execution_count": 16,
   "metadata": {},
   "outputs": [],
   "source": [
    "# To filter the noise in the image we use a 3rd order Butterworth filter\n",
    "\n",
    "# Wn = 0.02, the cut-off frequency, acceptable values are from 0 to 1\n",
    "b, a = butter(3, 0.02)"
   ]
  },
  {
   "cell_type": "code",
   "execution_count": null,
   "metadata": {},
   "outputs": [],
   "source": [
    "#def crop_plot_peak(path, ROI, row):\n",
    "def crop_plot_peak(Ibw, row):\n",
    "\n",
    "    #This function reads an image with cv2.imread using path, crops it to ROI, and chooses the row to detect peaks\n",
    " \n",
    "    #converting to black and white using L from pillow and displaying as grey\n",
    "    #Ibw = Image.open(path).convert('L')\n",
    "    \n",
    "    plt.figure()\n",
    "    plt.imshow(np.array(Ibw), cmap=\"gray\")\n",
    "    \n",
    "    #converting pillow object to a numpy array\n",
    "    Ibw_array = np.array(Ibw)\n",
    "    \n",
    "    #Ibw_array.shape\n",
    "    \n",
    "    '''#Cropping to Region of Interest\n",
    "    ROI = np.array(Ibw_array[ROI[0]:ROI[1], ROI[2]:ROI[3]])\n",
    "    ROI.shape\n",
    "    plt.figure()\n",
    "    plt.imshow(ROI)\n",
    "    ROI.min(), ROI.max()\n",
    "    L = ROI[row]'''\n",
    "    \n",
    "    L = Ibw_array[row]\n",
    "    L.shape\n",
    "    \n",
    "    plt.figure()\n",
    "    plt.plot(L)\n",
    "    plt.show()\n",
    "    \n",
    "    return L\n",
    "\n"
   ]
  },
  {
   "cell_type": "code",
   "execution_count": null,
   "metadata": {},
   "outputs": [],
   "source": [
    "def get_midpoint_peak(L):\n",
    "    \n",
    "    #smoothening both arrays to filter the noise in the image we use a 3rd order Butterworth filter\n",
    "    # Wn = 0.02, the cut-off frequency, acceptable values are from 0 to 1\n",
    "    b, a = butter(3, 0.02)\n",
    "    L_filt = filtfilt(b, a, L)\n",
    "    L_shifted_filt = np.roll(L_filt, 1)\n",
    "    L_shifted_filt[0] = L_shifted_filt[1]\n",
    "\n",
    "    #Displaying L_filt\n",
    "    plt.figure()\n",
    "    plt.plot(L_filt)\n",
    "    plt.show()\n",
    "    \n",
    "    #Displaying L_diff\n",
    "    L_diff = L_filt - L_shifted_filt\n",
    "    L_diff[0] = 0\n",
    "    plt.figure()\n",
    "    plt.plot(L_diff)\n",
    "    plt.show()\n",
    "    \n",
    "    #Calculating the midpoint of the peak\n",
    "    peak_start = np.argmax(L_diff)\n",
    "    peak_stop = np.argmin(L_diff)\n",
    "    peak_mid = (peak_start+peak_stop)/2\n",
    "    print(\"Start of the peak is :\", peak_start)\n",
    "    print(\"End of the peak is :\", peak_stop)\n",
    "    print(\"Midpoint of the peak is :\", peak_mid)\n",
    "    \n",
    "    return peak_mid"
   ]
  },
  {
   "cell_type": "code",
   "execution_count": 119,
   "metadata": {},
   "outputs": [
    {
     "name": "stdout",
     "output_type": "stream",
     "text": [
      "Elapsed 13.17 seconds, estimated FPS 22.77\n"
     ]
    }
   ],
   "source": [
    "# Run a track detection algorithm on a single horizontal line.\n",
    "# Uses YUV420 image format as the Y component corresponds to image intensity (gray image)\n",
    "# and thus there is no need to convert from RGB to BW\n",
    "\n",
    "camera = PiCamera()\n",
    "        \n",
    "# Check the link below for the combinations between mode and resolution\n",
    "# https://picamera.readthedocs.io/en/release-1.13/fov.html#sensor-modes\n",
    "camera.sensor_mode = 7\n",
    "camera.resolution = res\n",
    "camera.framerate = 120\n",
    "\n",
    "# Initialize the buffer and start capturing\n",
    "rawCapture = PiYUVArray(camera, size=res)\n",
    "stream = camera.capture_continuous(rawCapture, format=\"yuv\", use_video_port=True)\n",
    "\n",
    "# Measure the time needed to process 300 images to estimate the FPS\n",
    "N = 300\n",
    "k = 0\n",
    "t = time.time()\n",
    "\n",
    "for f in stream:\n",
    "    # Get the intensity component of the image (a trick to get black and white images)\n",
    "    I = f.array[:, :, 0]\n",
    "    \n",
    "    # Reset the buffer for the next image\n",
    "    rawCapture.truncate(0)\n",
    "    \n",
    "    row = 400\n",
    "    L = crop_plot_peak(I, row)\n",
    "    midpoint_current = get_midpoint_peak(L)\n",
    "    pos_diff = 2300 - midpoint_current  #2300 was the centre - hard coded\n",
    "    #pwm1.duty_cycle = 1500000 + P *pos_diff \n",
    "\n",
    "    print(\"Position difference in the midpoint of the peaks is: \", pos_diff)\n",
    "    # Increment the number of processed frames\n",
    "    k += 1\n",
    "    if k > N:\n",
    "        break\n",
    "        \n",
    "time_elapsed = time.time() - t\n",
    "print(\"Elapsed {:0.2f} seconds, estimated FPS {:0.2f}\".format(time_elapsed, N / time_elapsed))\n",
    "\n",
    "# Release resources\n",
    "stream.close()\n",
    "rawCapture.close()\n",
    "camera.close()"
   ]
  },
  {
   "cell_type": "code",
   "execution_count": null,
   "metadata": {},
   "outputs": [],
   "source": []
  }
 ],
 "metadata": {
  "kernelspec": {
   "display_name": "Python 2",
   "language": "python",
   "name": "python2"
  },
  "language_info": {
   "codemirror_mode": {
    "name": "ipython",
    "version": 2
   },
   "file_extension": ".py",
   "mimetype": "text/x-python",
   "name": "python",
   "nbconvert_exporter": "python",
   "pygments_lexer": "ipython2",
   "version": "2.7.15"
  }
 },
 "nbformat": 4,
 "nbformat_minor": 2
}
